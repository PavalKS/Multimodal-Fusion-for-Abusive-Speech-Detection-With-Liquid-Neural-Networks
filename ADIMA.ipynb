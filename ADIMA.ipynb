{
  "cells": [
    {
      "cell_type": "markdown",
      "metadata": {
        "id": "ms25Q6-jJeiM"
      },
      "source": [
        "## PROPOSED METHODOLOGY"
      ]
    },
    {
      "cell_type": "markdown",
      "metadata": {
        "id": "BYe0LlS3H_HT"
      },
      "source": [
        "![Blank diagram.png](data:image/png;base64,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)"
      ]
    },
    {
      "cell_type": "markdown",
      "metadata": {
        "id": "gyEbsY8abfBe"
      },
      "source": [
        "## Textual Transcription"
      ]
    },
    {
      "cell_type": "code",
      "execution_count": null,
      "metadata": {
        "colab": {
          "base_uri": "https://localhost:8080/"
        },
        "id": "HTmgVTRfbgtS",
        "outputId": "0ef4a6f0-cbcd-4fa8-e69f-18cc131d0115"
      },
      "outputs": [
        {
          "name": "stdout",
          "output_type": "stream",
          "text": [
            "Collecting SpeechRecognition\n",
            "  Downloading SpeechRecognition-3.10.1-py2.py3-none-any.whl (32.8 MB)\n",
            "\u001b[2K     \u001b[90m━━━━━━━━━━━━━━━━━━━━━━━━━━━━━━━━━━━━━━━━\u001b[0m \u001b[32m32.8/32.8 MB\u001b[0m \u001b[31m34.8 MB/s\u001b[0m eta \u001b[36m0:00:00\u001b[0m\n",
            "\u001b[?25hRequirement already satisfied: requests>=2.26.0 in /usr/local/lib/python3.10/dist-packages (from SpeechRecognition) (2.31.0)\n",
            "Requirement already satisfied: typing-extensions in /usr/local/lib/python3.10/dist-packages (from SpeechRecognition) (4.10.0)\n",
            "Requirement already satisfied: charset-normalizer<4,>=2 in /usr/local/lib/python3.10/dist-packages (from requests>=2.26.0->SpeechRecognition) (3.3.2)\n",
            "Requirement already satisfied: idna<4,>=2.5 in /usr/local/lib/python3.10/dist-packages (from requests>=2.26.0->SpeechRecognition) (3.6)\n",
            "Requirement already satisfied: urllib3<3,>=1.21.1 in /usr/local/lib/python3.10/dist-packages (from requests>=2.26.0->SpeechRecognition) (2.0.7)\n",
            "Requirement already satisfied: certifi>=2017.4.17 in /usr/local/lib/python3.10/dist-packages (from requests>=2.26.0->SpeechRecognition) (2024.2.2)\n",
            "Installing collected packages: SpeechRecognition\n",
            "Successfully installed SpeechRecognition-3.10.1\n"
          ]
        }
      ],
      "source": [
        "!sudo pip3 install SpeechRecognition"
      ]
    },
    {
      "cell_type": "code",
      "execution_count": null,
      "metadata": {
        "id": "fGarsB0Kbh-r"
      },
      "outputs": [],
      "source": [
        "#import speech_recognition as sr\n",
        "import os\n",
        "import csv\n",
        "from tqdm import tqdm\n",
        "\n",
        "#r = sr.Recognizer()"
      ]
    },
    {
      "cell_type": "code",
      "execution_count": null,
      "metadata": {
        "id": "sbqZ3Gt5cbB8"
      },
      "outputs": [],
      "source": [
        "def startConversion(folder_path, lang, output_file):\n",
        "    files = [filename for filename in os.listdir(folder_path) if filename.endswith('.wav')]\n",
        "    total_files = len(files)\n",
        "\n",
        "    with open(output_file, 'w', newline='', encoding='utf-8') as csvfile:\n",
        "        csv_writer = csv.writer(csvfile)\n",
        "        csv_writer.writerow(['File Name', 'Transcription'])\n",
        "\n",
        "        for filename in tqdm(files, desc='Processing', unit='file'):\n",
        "            file_path = os.path.join(folder_path, filename)\n",
        "\n",
        "            with sr.AudioFile(file_path) as source:\n",
        "                audio_text = r.listen(source)\n",
        "\n",
        "                try:\n",
        "                    text = r.recognize_google(audio_text, language=lang)\n",
        "                    csv_writer.writerow([filename, text])\n",
        "                except sr.UnknownValueError:\n",
        "                    pass  # Skip this file\n",
        "                except sr.RequestError as e:\n",
        "                    pass  # Skip this file\n",
        "                except Exception as e:\n",
        "                    pass  # Skip this file\n"
      ]
    },
    {
      "cell_type": "code",
      "execution_count": null,
      "metadata": {
        "colab": {
          "base_uri": "https://localhost:8080/"
        },
        "id": "nVDJW1Mebmjd",
        "outputId": "f3dbfc7f-545f-4ac5-c322-65ee0812ee37"
      },
      "outputs": [
        {
          "name": "stderr",
          "output_type": "stream",
          "text": [
            "Processing: 100%|██████████| 1200/1200 [1:08:24<00:00,  3.42s/file]\n"
          ]
        }
      ],
      "source": [
        "# BENGALI\n",
        "if __name__ == '__main__':\n",
        "    startConversion('/content/drive/MyDrive/adima/audios-001/Prima/SC_audio_Bengali/', 'bn-BD', '/content/drive/MyDrive/adima/audios-001/transcription_bengali.csv')"
      ]
    },
    {
      "cell_type": "code",
      "execution_count": null,
      "metadata": {
        "colab": {
          "base_uri": "https://localhost:8080/"
        },
        "id": "M3nlCmb0cNaa",
        "outputId": "0d792b6b-c3e1-43c4-ef47-c5d7c8d4fed2"
      },
      "outputs": [
        {
          "name": "stderr",
          "output_type": "stream",
          "text": [
            "Processing: 100%|██████████| 1200/1200 [46:04<00:00,  2.30s/file]\n"
          ]
        }
      ],
      "source": [
        "# GUJARATI\n",
        "startConversion('/content/drive/MyDrive/adima/audios-001/Prima/SC_audio_Gujarati/', 'gu-IN', '/content/drive/MyDrive/adima/audios-001/transcription_gujarati.csv')"
      ]
    },
    {
      "cell_type": "code",
      "execution_count": null,
      "metadata": {
        "colab": {
          "base_uri": "https://localhost:8080/"
        },
        "id": "jgEd7i2-fZdw",
        "outputId": "8805d3cc-3d15-4e09-d844-05676a56d00c"
      },
      "outputs": [
        {
          "name": "stderr",
          "output_type": "stream",
          "text": [
            "Processing: 100%|██████████| 1210/1210 [1:13:52<00:00,  3.66s/file]\n"
          ]
        }
      ],
      "source": [
        "# HINDI\n",
        "startConversion('/content/drive/MyDrive/adima/audios-001/Prima/SC_audio_Hindi/', 'hi-IN', '/content/drive/MyDrive/adima/audios-001/transcription_hindi.csv')"
      ]
    },
    {
      "cell_type": "code",
      "execution_count": null,
      "metadata": {
        "id": "ioeETd4g7Z_w"
      },
      "outputs": [],
      "source": [
        "# KANNADA\n",
        "# startConversion('/content/drive/MyDrive/adima/audios-001/Prima/SC_audio_Kannada/', 'kn-IN', '/content/drive/MyDrive/adima/audios-001/transcription_kannada.csv')"
      ]
    },
    {
      "cell_type": "code",
      "execution_count": null,
      "metadata": {
        "id": "CUBVLbY7f2Pj"
      },
      "outputs": [],
      "source": [
        "# MALAYALAM\n",
        "# startConversion('/content/drive/MyDrive/adima/audios-001/Prima/SC_audio_Malayalam/', 'ml-IN', '/content/drive/MyDrive/adima/audios-001/transcription_malayalam.csv')"
      ]
    },
    {
      "cell_type": "code",
      "execution_count": null,
      "metadata": {
        "id": "vOAPSM33f-dj"
      },
      "outputs": [],
      "source": [
        "# PUNJABI\n",
        "# startConversion('/content/drive/MyDrive/adima/audios-001/Prima/SC_audio_Punjabi/', 'pa-Guru-IN', '/content/drive/MyDrive/adima/audios-001/transcription_punjabi.csv')"
      ]
    },
    {
      "cell_type": "code",
      "execution_count": null,
      "metadata": {
        "id": "u2rGoB4GgMFH"
      },
      "outputs": [],
      "source": [
        "# TAMIL\n",
        "# startConversion('/content/drive/MyDrive/adima/audios-001/Prima/SC_audio_Tamil/', 'ta-IN', '/content/drive/MyDrive/adima/audios-001/transcription_tamil.csv')"
      ]
    },
    {
      "cell_type": "code",
      "execution_count": null,
      "metadata": {
        "colab": {
          "base_uri": "https://localhost:8080/"
        },
        "id": "XTJc5yHfvW0E",
        "outputId": "922c9ddd-8347-4f95-c9ba-78ee5b18aed5"
      },
      "outputs": [
        {
          "name": "stderr",
          "output_type": "stream",
          "text": [
            "Processing: 100%|██████████| 1204/1204 [1:10:09<00:00,  3.50s/file]\n"
          ]
        }
      ],
      "source": [
        "# HARYANVI\n",
        "startConversion('/content/drive/MyDrive/adima/audios-001/Prima/SC_audio_Haryanvi/', 'hi-IN', '/content/drive/MyDrive/adima/audios-001/transcription_haryanvi.csv')"
      ]
    },
    {
      "cell_type": "code",
      "execution_count": null,
      "metadata": {
        "colab": {
          "base_uri": "https://localhost:8080/"
        },
        "id": "GUsSQt5DQpwd",
        "outputId": "4b302243-f785-4367-83c4-8a4da8b1e512"
      },
      "outputs": [
        {
          "name": "stderr",
          "output_type": "stream",
          "text": [
            "Processing: 100%|██████████| 1200/1200 [48:57<00:00,  2.45s/file]\n"
          ]
        }
      ],
      "source": [
        "# ODIA\n",
        "startConversion('/content/drive/MyDrive/adima/audios-001/Prima/SC_audio_Odia/', 'hi-IN', '/content/drive/MyDrive/adima/audios-001/transcription_odia.csv')"
      ]
    },
    {
      "cell_type": "code",
      "execution_count": null,
      "metadata": {
        "colab": {
          "base_uri": "https://localhost:8080/"
        },
        "id": "IOf93UkgRAte",
        "outputId": "265349e6-0e90-4061-fb6b-499e7aef8483"
      },
      "outputs": [
        {
          "name": "stderr",
          "output_type": "stream",
          "text": [
            "Processing: 100%|██████████| 1200/1200 [1:17:04<00:00,  3.85s/file]\n"
          ]
        }
      ],
      "source": [
        "# BHOJPURI\n",
        "startConversion('/content/drive/MyDrive/adima/audios-001/Prima/SC_audio_Bhojpuri/', 'hi-IN', '/content/drive/MyDrive/adima/audios-001/transcription_bhojpuri.csv')"
      ]
    },
    {
      "cell_type": "markdown",
      "metadata": {
        "id": "Fw1NQo9gjN1y"
      },
      "source": [
        "Meta data"
      ]
    },
    {
      "cell_type": "code",
      "execution_count": null,
      "metadata": {
        "id": "ikCz5T7J99wW"
      },
      "outputs": [],
      "source": [
        "import os\n",
        "import pandas as pd\n",
        "from tabulate import tabulate\n",
        "\n",
        "def calculate_dataset_info(csv_path):\n",
        "    # Load CSV file\n",
        "    df = pd.read_csv(csv_path)\n",
        "\n",
        "    # Calculate dataset size\n",
        "    dataset_size = len(df)\n",
        "\n",
        "    # Calculate average transcript length\n",
        "    total_length = df['Transcription'].apply(lambda x: len(str(x))).sum()\n",
        "    avg_length = total_length / dataset_size if dataset_size > 0 else 0\n",
        "\n",
        "    return dataset_size, avg_length"
      ]
    },
    {
      "cell_type": "code",
      "execution_count": null,
      "metadata": {
        "colab": {
          "base_uri": "https://localhost:8080/"
        },
        "id": "Ocb67KJ4jo18",
        "outputId": "3886f76a-48c5-4932-9bb6-1b4404e5a86e"
      },
      "outputs": [
        {
          "output_type": "stream",
          "name": "stdout",
          "text": [
            "Filename                             Dataset Size    Average Transcript Length\n",
            "---------------------------------  --------------  ---------------------------\n",
            "Copy of transcription_bengali.csv             823                      61.0559\n",
            "transcription_Bengali.csv                     823                      61.0559\n",
            "transcription_Bhojpuri.csv                    922                      58.2126\n",
            "transcription_Gujarati.csv                    796                      60.1043\n",
            "transcription_Haryanvi.csv                    907                      38.1874\n",
            "transcription_Hindi.csv                       913                      64.2563\n",
            "transcription_Kannada.csv                     577                      45.3137\n",
            "transcription_Malayalam.csv                   670                      32.4881\n",
            "transcription_Odia.csv                        620                      17.8516\n",
            "transcription_Punjabi.csv                    1037                     138.118\n",
            "transcription_Tamil.csv                       687                      84.9476\n"
          ]
        }
      ],
      "source": [
        "# Path to the directory containing CSV files\n",
        "directory = '/content/drive/MyDrive/adima/audios-001/Transcriptions'\n",
        "\n",
        "# Store results in a list of lists\n",
        "table_data = []\n",
        "\n",
        "# Iterate over all files in the directory\n",
        "for filename in os.listdir(directory):\n",
        "    if filename.endswith('.csv'):\n",
        "        csv_path = os.path.join(directory, filename)\n",
        "        dataset_size, avg_length = calculate_dataset_info(csv_path)\n",
        "        table_data.append([filename, dataset_size, avg_length])\n",
        "\n",
        "# Display results as a table\n",
        "print(tabulate(table_data, headers=[\"Filename\", \"Dataset Size\", \"Average Transcript Length\"]))"
      ]
    },
    {
      "cell_type": "code",
      "source": [
        "import matplotlib.pyplot as plt\n",
        "\n",
        "# Data\n",
        "languages = ['Bengali', 'Tamil', 'Gujarati', 'Punjabi', 'Malayalam', 'Kannada', 'Hindi', 'Haryanvi', 'Odia', 'Bhojpuri']\n",
        "dataset_sizes = [823, 687, 796, 1037, 670, 577, 913, 907, 620, 922]\n",
        "avg_lengths = [61.0559, 84.9476, 60.1043, 138.118, 32.4881, 45.3137, 64.2563, 38.1874, 17.8516, 58.2126]\n",
        "\n",
        "# Plot\n",
        "plt.figure(figsize=(10, 6))\n",
        "\n",
        "plt.subplot(2, 1, 1)\n",
        "plt.bar(languages, dataset_sizes, color='skyblue')\n",
        "plt.title('Dataset Sizes by Language')\n",
        "plt.xlabel('Language')\n",
        "plt.ylabel('Dataset Size')\n",
        "\n",
        "plt.subplot(2, 1, 2)\n",
        "plt.bar(languages, avg_lengths, color='salmon')\n",
        "plt.title('Average Transcript Lengths by Language')\n",
        "plt.xlabel('Language')\n",
        "plt.ylabel('Average Transcript Length')\n",
        "\n",
        "plt.tight_layout()\n",
        "plt.show()"
      ],
      "metadata": {
        "colab": {
          "base_uri": "https://localhost:8080/",
          "height": 607
        },
        "id": "9EcYcnZetMp-",
        "outputId": "c6c16e6b-db49-4b3e-e0aa-92939b1bcf3f"
      },
      "execution_count": null,
      "outputs": [
        {
          "output_type": "display_data",
          "data": {
            "text/plain": [
              "<Figure size 1000x600 with 2 Axes>"
            ],
            "image/png": "[encoded data removed]"
          },
          "metadata": {}
        }
      ]
    },
    {
      "cell_type": "code",
      "source": [
        "import pandas as pd\n",
        "import matplotlib.pyplot as plt\n",
        "import seaborn as sns\n",
        "\n",
        "# Paths to the CSV files\n",
        "file_paths = {\n",
        "    'Bengali': {\n",
        "        'train': '/content/drive/MyDrive/adima/PRIMA-20240228T071801Z-002/PRIMA/annotations/Bengali_train.csv',\n",
        "        'test': '/content/drive/MyDrive/adima/PRIMA-20240228T071801Z-002/PRIMA/annotations/Bengali_test.csv'\n",
        "    },\n",
        "    'Tamil': {\n",
        "        'train': '/content/drive/MyDrive/adima/PRIMA-20240228T071801Z-002/PRIMA/annotations/Tamil_train.csv',\n",
        "        'test': '/content/drive/MyDrive/adima/PRIMA-20240228T071801Z-002/PRIMA/annotations/Tamil_test.csv'\n",
        "    },\n",
        "    'Gujarati': {\n",
        "        'train': '/content/drive/MyDrive/adima/PRIMA-20240228T071801Z-002/PRIMA/annotations/Gujarati_train.csv',\n",
        "        'test': '/content/drive/MyDrive/adima/PRIMA-20240228T071801Z-002/PRIMA/annotations/Gujarati_test.csv'\n",
        "    },\n",
        "    'Punjabi': {\n",
        "        'train': '/content/drive/MyDrive/adima/PRIMA-20240228T071801Z-002/PRIMA/annotations/Punjabi_train.csv',\n",
        "        'test': '/content/drive/MyDrive/adima/PRIMA-20240228T071801Z-002/PRIMA/annotations/Punjabi_test.csv'\n",
        "    },\n",
        "    'Malayalam': {\n",
        "        'train': '/content/drive/MyDrive/adima/PRIMA-20240228T071801Z-002/PRIMA/annotations/Malayalam_train.csv',\n",
        "        'test': '/content/drive/MyDrive/adima/PRIMA-20240228T071801Z-002/PRIMA/annotations/Malayalam_test.csv'\n",
        "    },\n",
        "    'Kannada': {\n",
        "        'train': '/content/drive/MyDrive/adima/PRIMA-20240228T071801Z-002/PRIMA/annotations/Kannada_train.csv',\n",
        "        'test': '/content/drive/MyDrive/adima/PRIMA-20240228T071801Z-002/PRIMA/annotations/Kannada_test.csv'\n",
        "    },\n",
        "    'Hindi': {\n",
        "        'train': '/content/drive/MyDrive/adima/PRIMA-20240228T071801Z-002/PRIMA/annotations/Hindi_train.csv',\n",
        "        'test': '/content/drive/MyDrive/adima/PRIMA-20240228T071801Z-002/PRIMA/annotations/Hindi_test.csv'\n",
        "    },\n",
        "    'Haryanvi': {\n",
        "        'train': '/content/drive/MyDrive/adima/PRIMA-20240228T071801Z-002/PRIMA/annotations/Haryanvi_train.csv',\n",
        "        'test': '/content/drive/MyDrive/adima/PRIMA-20240228T071801Z-002/PRIMA/annotations/Haryanvi_test.csv'\n",
        "    },\n",
        "    'Odia': {\n",
        "        'train': '/content/drive/MyDrive/adima/PRIMA-20240228T071801Z-002/PRIMA/annotations/Odia_train.csv',\n",
        "        'test': '/content/drive/MyDrive/adima/PRIMA-20240228T071801Z-002/PRIMA/annotations/Odia_test.csv'\n",
        "    },\n",
        "    'Bhojpuri': {\n",
        "        'train': '/content/drive/MyDrive/adima/PRIMA-20240228T071801Z-002/PRIMA/annotations/Bhojpuri_train.csv',\n",
        "        'test': '/content/drive/MyDrive/adima/PRIMA-20240228T071801Z-002/PRIMA/annotations/Bhojpuri_test.csv'\n",
        "    }\n",
        "}\n",
        "\n",
        "# Load data and calculate number of samples for each language\n",
        "data = []\n",
        "for lang in file_paths:\n",
        "    train_df = pd.read_csv(file_paths[lang]['train'])\n",
        "    test_df = pd.read_csv(file_paths[lang]['test'])\n",
        "    train_samples = len(train_df)\n",
        "    test_samples = len(test_df)\n",
        "    data.append({'Language': lang, 'Train Samples': train_samples, 'Test Samples': test_samples})\n",
        "\n",
        "# Create DataFrame from data\n",
        "df = pd.DataFrame(data)\n",
        "\n",
        "# Plotting\n",
        "plt.figure(figsize=(12, 8))\n",
        "sns.barplot(data=df, x='Language', y='Train Samples', color='blue', label='Train Samples')\n",
        "sns.barplot(data=df, x='Language', y='Test Samples', color='red', alpha=0.7, label='Test Samples')\n",
        "plt.title('Number of Training and Testing Samples for Each Language')\n",
        "plt.xlabel('Language')\n",
        "plt.ylabel('Number of Samples')\n",
        "plt.xticks(rotation=45)\n",
        "plt.legend()\n",
        "plt.tight_layout()\n",
        "plt.show()"
      ],
      "metadata": {
        "colab": {
          "base_uri": "https://localhost:8080/",
          "height": 807
        },
        "id": "KHxGmMnTuEO1",
        "outputId": "6732fab3-51a5-4674-c032-1012d2897714"
      },
      "execution_count": null,
      "outputs": [
        {
          "output_type": "display_data",
          "data": {
            "text/plain": [
              "<Figure size 1200x800 with 1 Axes>"
            ],
            "image/png": "[encoded data removed]"
          },
          "metadata": {}
        }
      ]
    },
    {
      "cell_type": "code",
      "execution_count": null,
      "metadata": {
        "id": "iEfbDit5mp1M"
      },
      "outputs": [],
      "source": [
        "import speech_recognition as sr\n",
        "\n",
        "def transcribe_audio(audio_file,lang,):\n",
        "    recognizer = sr.Recognizer()\n",
        "\n",
        "    with sr.AudioFile(audio_file) as source:\n",
        "        audio_data = recognizer.record(source)\n",
        "\n",
        "    try:\n",
        "        # Recognize speech using Google Web Speech API\n",
        "        result = recognizer.recognize_google(audio_data, language=lang, show_all=True)\n",
        "\n",
        "        # Access additional information\n",
        "        alternatives = result.get(\"alternative\", [])\n",
        "        for alternative in alternatives:\n",
        "            transcript = alternative[\"transcript\"]\n",
        "            confidence = alternative.get(\"confidence\", None)\n",
        "            print(f\"Transcript: {transcript}, Confidence: {confidence}\")\n",
        "\n",
        "    except sr.UnknownValueError:\n",
        "        print(\"Speech recognition could not understand audio\")\n",
        "    except sr.RequestError as e:\n",
        "        print(f\"Could not request results from Google Speech Recognition service; {e}\")\n"
      ]
    },
    {
      "cell_type": "code",
      "execution_count": null,
      "metadata": {
        "colab": {
          "base_uri": "https://localhost:8080/"
        },
        "id": "WZgaBt7Xm50T",
        "outputId": "89415540-8584-4837-c6ec-40f1e525ca69"
      },
      "outputs": [
        {
          "name": "stdout",
          "output_type": "stream",
          "text": [
            "Transcript: মাদারচোদ তুই খানকির ছেলে গুদমারানি খানকির ছেলে খানকির ছেলে গুদমারানি খানকির ছেলে মাদারচোদ, Confidence: 0.88447982\n",
            "Transcript: মাদারচোদ তুই খানকির ছেলে গুদমারানি খানকির ছেলে খানকির ছেলে গুদমারানি খানকির ছেলে, Confidence: None\n",
            "Transcript: মাদারচোদ তুই খানকির ছেলে গুদমারানি খানকির ছেলে খানকির ছেলে গুদমারানি ছেলে, Confidence: None\n",
            "Transcript: মাদারচোদ তুই খানকির ছেলে গুদমারানি খানকির ছেলে খানকির ছেলে গুদমারানি, Confidence: None\n"
          ]
        }
      ],
      "source": [
        "audio_file = \"/content/drive/MyDrive/adima/audios-001/Prima/SC_audio_Bengali/Abuse_0.wav\"\n",
        "transcribe_audio(audio_file,\"bn-IN\")"
      ]
    },
    {
      "cell_type": "code",
      "execution_count": null,
      "metadata": {
        "colab": {
          "base_uri": "https://localhost:8080/"
        },
        "id": "v6hS7FpAm6xw",
        "outputId": "f85482fe-fc3d-4e1a-a2b0-688cb84888a5"
      },
      "outputs": [
        {
          "name": "stdout",
          "output_type": "stream",
          "text": [
            "Transcript: हेलो चार नंबर चार नंबर कहां से हो, Confidence: None\n",
            "Transcript: हेलो 4 नंबर 4 नंबर कहां से हो, Confidence: None\n",
            "Transcript: हेलो चार नंबर चैनल कहां से हो, Confidence: None\n",
            "Transcript: हेलो चार नंबर चारमीनार कहां से हो, Confidence: None\n",
            "Transcript: हेलो -4 नंबर 4 नंबर कहां से हो, Confidence: None\n"
          ]
        }
      ],
      "source": [
        "audio_file = \"/content/drive/MyDrive/adima/audios-001/Prima/SC_audio_Bhojpuri/Abuse_125.wav\"\n",
        "transcribe_audio(audio_file,\"hi-IN\")"
      ]
    },
    {
      "cell_type": "code",
      "execution_count": null,
      "metadata": {
        "colab": {
          "base_uri": "https://localhost:8080/"
        },
        "id": "_f-FQK6tnw44",
        "outputId": "8dc1540f-800d-47ea-8d08-3f034ef2146f"
      },
      "outputs": [
        {
          "name": "stdout",
          "output_type": "stream",
          "text": [
            "Transcript: અમે તારી બેન નો ભોંસડો મારે માદર ચૌદ તારી માનો પિકો મારે તારી માનો ભોંસડો ઉપર સંપર્ક મારીને ચોદો ભોંસ મારીના તારી માનો પિકો મારે ભોંસડો તારા બાપને તારી માનો લોડો મારે, Confidence: 0.86772144\n",
            "Transcript: અમે તારી બેન નો ભોંસડો મારે માદર ચૌદ તારી માનો પિકો મારે તારી માનો ભોંસડો ઉપર સંપર્ક મારીને ચોદો ભોંસ મારીના તારી માનો પિકો મારે ભોંસડો તારા બાપને તારી માનો લોડો મારે ઉપર, Confidence: None\n",
            "Transcript: અમે તારી બેન નો ભોંસડો મારે માદર ચૌદ તારી માનો પિકો મારે તારી માનો ભોંસડો ઉપર સંપર્ક મારીને ચોદો ભોંસ મારીના તારી માનો પિકો મારે ભોંસડો તારા બાપને તારી માનો લોડો મારે ઉપર નારી, Confidence: None\n",
            "Transcript: અમે તારી બેન નો ભોંસડો મારે માદર ચૌદ તારી માનો પિકો મારે તારી માનો ભોંસડો ઉપર સંપર્ક મારીને ચોદો ભોંસ મારીના તારી માનો પિકો મારે ભોંસડો તારા બાપને તારી માનો લોડો મારે પણ, Confidence: None\n"
          ]
        }
      ],
      "source": [
        "audio_file = \"/content/drive/MyDrive/adima/audios-001/Prima/SC_audio_Gujarati/Abuse_0.wav\"\n",
        "transcribe_audio(audio_file,\"gu-IN\")"
      ]
    },
    {
      "cell_type": "code",
      "execution_count": null,
      "metadata": {
        "colab": {
          "base_uri": "https://localhost:8080/"
        },
        "id": "T5L9z3FloIXC",
        "outputId": "b3e6ea9c-bd50-4fc5-ad69-d5b0a5f759ff"
      },
      "outputs": [
        {
          "name": "stdout",
          "output_type": "stream",
          "text": [
            "Transcript: तेरी बहन का, Confidence: None\n"
          ]
        }
      ],
      "source": [
        "audio_file = \"/content/drive/MyDrive/adima/audios-001/Prima/SC_audio_Haryanvi/Abuse_0.wav\"\n",
        "transcribe_audio(audio_file,\"hi-IN\")"
      ]
    },
    {
      "cell_type": "code",
      "execution_count": null,
      "metadata": {
        "colab": {
          "base_uri": "https://localhost:8080/"
        },
        "id": "k8kj1wNfoHAW",
        "outputId": "b39fa6ad-9ee6-4869-c1ee-2793664cc916"
      },
      "outputs": [
        {
          "name": "stdout",
          "output_type": "stream",
          "text": [
            "Transcript: तेरी बहन का भोंसड़ा मादरचोद तेरी बहन का भोंसड़ा मादरचोद चुप चुप चुप चुप, Confidence: None\n",
            "Transcript: तेरी बहन का भोंसड़ा मादरचोद तेरी बहन का भोंसड़ा मादरचोद चुप चुप चुप चुप चुप, Confidence: None\n",
            "Transcript: तेरी बहन का भोंसड़ा मादरचोद तेरी बहन का भोंसड़ा मादरचोद चुप चुप चुप चुप चुप चुप, Confidence: None\n",
            "Transcript: तेरी बहन का भोंसड़ा मादरचोद तेरी बहन का भोंसड़ा मादरचोद चुप चुप चुप, Confidence: None\n",
            "Transcript: तेरी बहन का भोंसड़ा मादरचोद तेरी बहन का भोंसड़ा मादरचोद चुप चुप चुप चुप चुप चुप चुप, Confidence: None\n"
          ]
        }
      ],
      "source": [
        "audio_file = \"/content/drive/MyDrive/adima/audios-001/Prima/SC_audio_Hindi/Abuse_0.wav\"\n",
        "transcribe_audio(audio_file,\"hi-IN\")"
      ]
    },
    {
      "cell_type": "code",
      "execution_count": null,
      "metadata": {
        "colab": {
          "base_uri": "https://localhost:8080/"
        },
        "id": "rA89P7cKoTUA",
        "outputId": "b29179e5-1352-4d65-932f-de50bd86eca7"
      },
      "outputs": [
        {
          "name": "stdout",
          "output_type": "stream",
          "text": [
            "Transcript: ನಿಮ್ಮ ಮನೆಗೆ ನಿಮ್ಮವ್ವನ್ ತುಲ್ಲ್ ನಡಿ ನಡಿ ನಡಿ ನಡಿ ನಡಿ ಆಯ್ತಾ ಬಿಡುತ್ತೆ ಯಾರು, Confidence: 0.83882803\n",
            "Transcript: ನಿಮ್ಮ ಮನೆಗೆ ನಿಮ್ಮವ್ವನ್ ತುಲ್ಲ್ ನಡಿ ನಡಿ ನಡಿ ನಡಿ ನಡಿ ಆಯ್ತಾ ಬಿಡುತ್ತೆ ಯಾರು ಯಾರು, Confidence: None\n",
            "Transcript: ನಿಮ್ಮ ಮನೆಗೆ ನಿಮ್ಮವ್ವನ್ ತುಲ್ಲ್ ನಡಿ ನಡಿ ನಡಿ ನಡಿ ನಡಿ ಆಯ್ತಾ ಬಿಡುತ್ತೆ ಯಾರ್, Confidence: None\n",
            "Transcript: ನಿಮ್ಮ ಮನೆಗೆ ನಿಮ್ಮವ್ವನ್ ತುಲ್ಲ್ ನಡಿ ನಡಿ ನಡಿ ನಡಿ ನಡಿ ಆಯ್ತಾ ಬಿಡುತ್ತೆ, Confidence: None\n",
            "Transcript: ನಿಮ್ಮ ಮನೆಗೆ ನಿಮ್ಮವ್ವನ್ ತುಲ್ಲ್ ನಡಿ ನಡಿ ನಡಿ ನಡಿ ನಡಿ ಆಯ್ತಾ ಬಿಡುತ್ತೆ ಯಾರ, Confidence: None\n"
          ]
        }
      ],
      "source": [
        "audio_file = \"/content/drive/MyDrive/adima/audios-001/Prima/SC_audio_Kannada/Abuse_10.wav\"\n",
        "transcribe_audio(audio_file,\"kn-IN\")"
      ]
    },
    {
      "cell_type": "code",
      "execution_count": null,
      "metadata": {
        "colab": {
          "base_uri": "https://localhost:8080/"
        },
        "id": "5YXgylJnoX4t",
        "outputId": "01f38362-635e-413e-984b-a903eba61dfe"
      },
      "outputs": [
        {
          "name": "stdout",
          "output_type": "stream",
          "text": [
            "Transcript: കുട്ടിച്ചാത്തൻ ഐ ലവ് യു ഡാ നീ അടിച്ചു കേട്ടോ, Confidence: 0.69188786\n"
          ]
        }
      ],
      "source": [
        "audio_file = \"/content/drive/MyDrive/adima/audios-001/Prima/SC_audio_Malayalam/Abuse_15.wav\"\n",
        "transcribe_audio(audio_file,\"ml-IN\")"
      ]
    },
    {
      "cell_type": "code",
      "execution_count": null,
      "metadata": {
        "colab": {
          "base_uri": "https://localhost:8080/"
        },
        "id": "IStbi2qEodn5",
        "outputId": "9b154266-0dcf-4f70-b412-a697b9946549"
      },
      "outputs": [
        {
          "name": "stdout",
          "output_type": "stream",
          "text": [
            "Transcript: अच्छा मुकुल सिंह के वीडियो, Confidence: None\n",
            "Transcript: अच्छा मुकुल सिंह, Confidence: None\n",
            "Transcript: अच्छा मुकुल सिंह के वीडियो गाना देखने की, Confidence: None\n",
            "Transcript: अच्छा मुकुल सिंह की, Confidence: None\n",
            "Transcript: अच्छा मुकुल सिंह के वीडियो गाना देखने के, Confidence: None\n"
          ]
        }
      ],
      "source": [
        "audio_file = \"/content/drive/MyDrive/adima/audios-001/Prima/SC_audio_Odia/Abuse_10.wav\"\n",
        "transcribe_audio(audio_file,\"hi-IN\")"
      ]
    },
    {
      "cell_type": "code",
      "execution_count": null,
      "metadata": {
        "colab": {
          "base_uri": "https://localhost:8080/"
        },
        "id": "mjpvZGGaogIG",
        "outputId": "8dc0e0e7-b071-48f0-a9a6-c92e540c9f66"
      },
      "outputs": [
        {
          "name": "stdout",
          "output_type": "stream",
          "text": [
            "Transcript: ਹੈਦਰਾਬਾਦ ਤੇਰੇ ਮਾ ਦੇ ਜੋ ਦੇ ਕੇ ਲੁਧਿਆਣੇ ਦਾ ਵਿਆਹ ਆ ਭੈਣ ਦੇ ਵੱਡੇ ਲਿਆ ਦਿਆ ਸਧਰਾ ਬਾਜਵਾ ਤੇਰੇ ਮਾ ਦਿਆ ਗਰਾਟਾ ਅੱਜ ਮੈਂ ਰਹਿਣ ਲੱਗ ਗਿਆ ਮੈਂ ਇੱਕ ਹੋਇਆ ਆ ਤੇਰੇ ਭੈਣ ਦਾ ਵੱਡਾ ਮਾੜਾ ਹਜੇ ਓਏ ਓਏ ਓਏ ਓਏ ਓਏ ਓਏ ਹੋਏ ਦੋਵੇਂ ਸਾਡੇ ਭੈਣ ਨੂੰ ਲਾਨਾ ਆ ਤੁਹਾਡੇ ਨਾਲ ਦੁਬਲੇ ਗੱਡੀਆਂ ਦੇ, Confidence: 0.96483725\n",
            "Transcript: ਹੈਦਰਾਬਾਦ ਤੇਰੇ ਮਾ ਦੇ ਜੋ ਦੇ ਕੇ ਲੁਧਿਆਣੇ ਦਾ ਵਿਆਹ ਆ ਭੈਣ ਦੇ ਵੱਡੇ ਲਿਆ ਦਿਆ ਸਧਰਾ ਬਾਜਵਾ ਤੇਰੇ ਮਾ ਦਿਆ ਗਰਾਟਾ ਅੱਜ ਮੈਂ ਰਹਿਣ ਲੱਗ ਗਿਆ ਮੈਂ ਇੱਕ ਹੋਇਆ ਆ ਤੇਰੇ ਭੈਣ ਦਾ ਵੱਡਾ ਮਾੜਾ ਹਜੇ ਓਏ ਓਏ ਓਏ ਓਏ ਓਏ ਓਏ ਹੋਏ ਦੋਵੇਂ ਸਾਡੇ ਭੈਣ ਨੂੰ ਲਾਨਾ ਆ ਤੁਹਾਡੇ ਨਾਲ ਦੁਬਲੇ ਡੱਟਿਆਂ ਦੇ, Confidence: None\n",
            "Transcript: ਹੈਦਰਾਬਾਦ ਤੇਰੇ ਮਾ ਦੇ ਜੋ ਦੇ ਕੇ ਲੁਧਿਆਣੇ ਦਾ ਵਿਆਹ ਆ ਭੈਣ ਦੇ ਵੱਡੇ ਲਿਆ ਦਿਆ ਸਧਰਾ ਬਾਜਵਾ ਤੇਰੇ ਮਾ ਦਿਆ ਗਰਾਟਾ ਅੱਜ ਮੈਂ ਰਹਿਣ ਲੱਗ ਗਿਆ ਮੈਂ ਇੱਕ ਹੋਇਆ ਆ ਤੇਰੇ ਭੈਣ ਦਾ ਵੱਡਾ ਮਾੜਾ ਹਜੇ ਓਏ ਓਏ ਓਏ ਓਏ ਓਏ ਓਏ ਹੋਏ ਦੋਵੇਂ ਸਾਡੇ ਭੈਣ ਨੂੰ ਲਾਨਾ ਆ ਤੁਹਾਡੇ ਨਾਲ ਦੁਬਲੇ ਗੱਡੀਆਂ, Confidence: None\n",
            "Transcript: ਹੈਦਰਾਬਾਦ ਤੇਰੇ ਮਾ ਦੇ ਜੋ ਦੇ ਕੇ ਲੁਧਿਆਣੇ ਦਾ ਵਿਆਹ ਆ ਭੈਣ ਦੇ ਵੱਡੇ ਲਿਆ ਦਿਆ ਸਧਰਾ ਬਾਜਵਾ ਤੇਰੇ ਮਾ ਦਿਆ ਗਰਾਟਾ ਅੱਜ ਮੈਂ ਰਹਿਣ ਲੱਗ ਗਿਆ ਮੈਂ ਇੱਕ ਹੋਇਆ ਆ ਤੇਰੇ ਭੈਣ ਦਾ ਵੱਡਾ ਮਾੜਾ ਹਜੇ ਓਏ ਓਏ ਓਏ ਓਏ ਓਏ ਓਏ ਹੋਏ ਦੋਵੇਂ ਸਾਡੇ ਭੈਣ ਨੂੰ ਲਾਨਾ ਆ ਤੁਹਾਡੇ ਨਾਲ ਦੁਬਲੇ ਟੱਟਿਆਂ ਦੇ, Confidence: None\n",
            "Transcript: ਹੈਦਰਾਬਾਦ ਤੇਰੇ ਮਾ ਦੇ ਜੋ ਦੇ ਕੇ ਲੁਧਿਆਣੇ ਦਾ ਵਿਆਹ ਆ ਭੈਣ ਦੇ ਵੱਡੇ ਲਿਆ ਦਿਆ ਸਧਰਾ ਬਾਜਵਾ ਤੇਰੇ ਮਾ ਦਿਆ ਗਰਾਟਾ ਅੱਜ ਮੈਂ ਰਹਿਣ ਲੱਗ ਗਿਆ ਮੈਂ ਇੱਕ ਹੋਇਆ ਆ ਤੇਰੇ ਭੈਣ ਦਾ ਵੱਡਾ ਮਾੜਾ ਹਜੇ ਓਏ ਓਏ ਓਏ ਓਏ ਓਏ ਓਏ ਹੋਏ ਦੋਵੇਂ ਸਾਡੇ ਭੈਣ ਨੂੰ ਲਾਨਾ ਆ ਤੁਹਾਡੇ ਨਾਲ ਦੁਬਲੇ ਗੱਡੀਆਂ ਤੇ, Confidence: None\n"
          ]
        }
      ],
      "source": [
        "audio_file = \"/content/drive/MyDrive/adima/audios-001/Prima/SC_audio_Punjabi/Abuse_0.wav\"\n",
        "transcribe_audio(audio_file,\"pa-Guru-IN\")"
      ]
    },
    {
      "cell_type": "code",
      "execution_count": null,
      "metadata": {
        "colab": {
          "base_uri": "https://localhost:8080/"
        },
        "id": "OJBYQyYconAL",
        "outputId": "b7d56b6f-9f48-438b-ee40-37f8b7aeb7e7"
      },
      "outputs": [
        {
          "name": "stdout",
          "output_type": "stream",
          "text": [
            "Transcript: ஓடு ஓடு ஓடு ஓடு ஓடு ஓடு ஓடு ஓடு ஓடு ஓடு ஓடு ஓடு ஓடு ஓடு அப்படியே உங்க அம்மா கூட அப்படி இல்லன்னா உங்க அப்பன் பூல போச்சுன்னு அப்பா, Confidence: 0.85019755\n"
          ]
        }
      ],
      "source": [
        "audio_file = \"/content/drive/MyDrive/adima/audios-001/Prima/SC_audio_Tamil/Abuse_15.wav\"\n",
        "transcribe_audio(audio_file,\"ta-IN\")"
      ]
    },
    {
      "cell_type": "markdown",
      "metadata": {
        "id": "1mvMKBVJC3_m"
      },
      "source": [
        "## Spectrogram"
      ]
    },
    {
      "cell_type": "code",
      "execution_count": null,
      "metadata": {
        "colab": {
          "base_uri": "https://localhost:8080/"
        },
        "id": "cJ_KTxH7D8go",
        "outputId": "e7b114de-62ce-459f-ab09-502fdcd4bd81"
      },
      "outputs": [
        {
          "name": "stdout",
          "output_type": "stream",
          "text": [
            "Requirement already satisfied: numba in /usr/local/lib/python3.10/dist-packages (0.58.1)\n",
            "Collecting numba\n",
            "  Downloading numba-0.59.0-cp310-cp310-manylinux2014_x86_64.manylinux_2_17_x86_64.whl (3.7 MB)\n",
            "\u001b[2K     \u001b[90m━━━━━━━━━━━━━━━━━━━━━━━━━━━━━━━━━━━━━━━━\u001b[0m \u001b[32m3.7/3.7 MB\u001b[0m \u001b[31m15.9 MB/s\u001b[0m eta \u001b[36m0:00:00\u001b[0m\n",
            "\u001b[?25hCollecting llvmlite<0.43,>=0.42.0dev0 (from numba)\n",
            "  Downloading llvmlite-0.42.0-cp310-cp310-manylinux_2_17_x86_64.manylinux2014_x86_64.whl (43.8 MB)\n",
            "\u001b[2K     \u001b[90m━━━━━━━━━━━━━━━━━━━━━━━━━━━━━━━━━━━━━━━━\u001b[0m \u001b[32m43.8/43.8 MB\u001b[0m \u001b[31m21.2 MB/s\u001b[0m eta \u001b[36m0:00:00\u001b[0m\n",
            "\u001b[?25hRequirement already satisfied: numpy<1.27,>=1.22 in /usr/local/lib/python3.10/dist-packages (from numba) (1.25.2)\n",
            "Installing collected packages: llvmlite, numba\n",
            "  Attempting uninstall: llvmlite\n",
            "    Found existing installation: llvmlite 0.41.1\n",
            "    Uninstalling llvmlite-0.41.1:\n",
            "      Successfully uninstalled llvmlite-0.41.1\n",
            "  Attempting uninstall: numba\n",
            "    Found existing installation: numba 0.58.1\n",
            "    Uninstalling numba-0.58.1:\n",
            "      Successfully uninstalled numba-0.58.1\n",
            "Successfully installed llvmlite-0.42.0 numba-0.59.0\n"
          ]
        }
      ],
      "source": [
        "!pip install --upgrade numba"
      ]
    },
    {
      "cell_type": "code",
      "execution_count": null,
      "metadata": {
        "id": "u6oMO2cVDWse"
      },
      "outputs": [],
      "source": [
        "import os\n",
        "import numpy as np\n",
        "import matplotlib.pyplot as plt\n",
        "from scipy import signal  # Import the signal module\n",
        "import soundfile as sf\n",
        "from tqdm import tqdm\n",
        "from scipy.io import wavfile"
      ]
    },
    {
      "cell_type": "code",
      "execution_count": null,
      "metadata": {
        "id": "Oh9OrPAYDYmc"
      },
      "outputs": [],
      "source": [
        "def generate_spectrogram(audio_file, output_folder):\n",
        "    # Read audio file\n",
        "    sr, y = wavfile.read(audio_file)\n",
        "\n",
        "    # Compute spectrogram\n",
        "    f, t, S_db = signal.spectrogram(y, sr)\n",
        "\n",
        "    # Plot and save the spectrogram\n",
        "    plt.figure(figsize=(10, 5))\n",
        "    plt.pcolormesh(t, f, 10 * np.log10(S_db), shading='gouraud')\n",
        "    plt.colorbar(label='Intensity (dB)')\n",
        "    plt.ylabel('Frequency [Hz]')\n",
        "    plt.xlabel('Time [sec]')\n",
        "    plt.title('Spectrogram')\n",
        "    plt.savefig(os.path.join(output_folder, os.path.splitext(os.path.basename(audio_file))[0] + '_spectrogram.png'))\n",
        "    plt.close()"
      ]
    },
    {
      "cell_type": "code",
      "execution_count": null,
      "metadata": {
        "id": "RhlGbFEQC5fK"
      },
      "outputs": [],
      "source": [
        "def generate_spectrograms_in_folder(input_folder, output_folder):\n",
        "    # Create output folder if it doesn't exist\n",
        "    if not os.path.exists(output_folder):\n",
        "        os.makedirs(output_folder)\n",
        "\n",
        "    # Get list of audio files in the input folder\n",
        "    audio_files = [os.path.join(root, file) for root, _, files in os.walk(input_folder)\n",
        "                   for file in files if file.endswith('.wav') or file.endswith('.mp3')]\n",
        "\n",
        "    # Process each audio file in the input folder with progress bar\n",
        "    for audio_file in tqdm(audio_files, desc=\"Generating spectrograms\", unit=\"file\"):\n",
        "        generate_spectrogram(audio_file, output_folder)"
      ]
    },
    {
      "cell_type": "code",
      "execution_count": null,
      "metadata": {
        "colab": {
          "base_uri": "https://localhost:8080/"
        },
        "id": "bruyJuQDDa9E",
        "outputId": "e7a8c785-b38f-4fbb-d8cd-7f4a943293ba"
      },
      "outputs": [
        {
          "name": "stderr",
          "output_type": "stream",
          "text": [
            "\rGenerating spectrograms:   0%|          | 0/1200 [00:00<?, ?file/s]<ipython-input-2-74c8d480b6d8>:10: RuntimeWarning: divide by zero encountered in log10\n",
            "  plt.pcolormesh(t, f, 10 * np.log10(S_db), shading='gouraud')\n",
            "Generating spectrograms:  69%|██████▉   | 828/1200 [43:33<19:04,  3.08s/file]"
          ]
        }
      ],
      "source": [
        "# BENGALI\n",
        "input_folder = '/content/drive/MyDrive/adima/audios-001/Prima/SC_audio_Bengali/'\n",
        "output_folder = '/content/drive/MyDrive/adima/audios-001/Spectrogram/Bengali'\n",
        "generate_spectrograms_in_folder(input_folder, output_folder)"
      ]
    },
    {
      "cell_type": "code",
      "execution_count": null,
      "metadata": {
        "id": "PANEI0u-DotZ"
      },
      "outputs": [],
      "source": [
        "# BHOJPURI\n",
        "input_folder = '/content/drive/MyDrive/adima/audios-001/Prima/SC_audio_Bhojpuri/'\n",
        "output_folder = '/content/drive/MyDrive/adima/audios-001/Spectrogram/Bhojpuri'\n",
        "generate_spectrograms_in_folder(input_folder, output_folder)"
      ]
    },
    {
      "cell_type": "code",
      "execution_count": null,
      "metadata": {
        "id": "eMqxp6MvEfyz"
      },
      "outputs": [],
      "source": [
        "# GUJARATI\n",
        "input_folder = '/content/drive/MyDrive/adima/audios-001/Prima/SC_audio_Gujarati/'\n",
        "output_folder = '/content/drive/MyDrive/adima/audios-001/Spectrogram/Gujarati'\n",
        "generate_spectrograms_in_folder(input_folder, output_folder)"
      ]
    },
    {
      "cell_type": "code",
      "execution_count": null,
      "metadata": {
        "id": "94oOqmAfEkrk"
      },
      "outputs": [],
      "source": [
        "# HARYANVI\n",
        "input_folder = '/content/drive/MyDrive/adima/audios-001/Prima/SC_audio_Haryanvi/'\n",
        "output_folder = '/content/drive/MyDrive/adima/audios-001/Spectrogram/Haryanvi'\n",
        "generate_spectrograms_in_folder(input_folder, output_folder)"
      ]
    },
    {
      "cell_type": "code",
      "execution_count": null,
      "metadata": {
        "id": "cNAjPsUBEo-4"
      },
      "outputs": [],
      "source": [
        "# HINDI\n",
        "input_folder = '/content/drive/MyDrive/adima/audios-001/Prima/SC_audio_Hindi/'\n",
        "output_folder = '/content/drive/MyDrive/adima/audios-001/Spectrogram/Hindi'\n",
        "generate_spectrograms_in_folder(input_folder, output_folder)"
      ]
    },
    {
      "cell_type": "code",
      "execution_count": null,
      "metadata": {
        "id": "v4fCaDNlEsol"
      },
      "outputs": [],
      "source": [
        "# KANNADA\n",
        "input_folder = '/content/drive/MyDrive/adima/audios-001/Prima/SC_audio_Kannada/'\n",
        "output_folder = '/content/drive/MyDrive/adima/audios-001/Spectrogram/Kannada'\n",
        "generate_spectrograms_in_folder(input_folder, output_folder)"
      ]
    },
    {
      "cell_type": "code",
      "execution_count": null,
      "metadata": {
        "id": "hshRSF5KEw1F"
      },
      "outputs": [],
      "source": [
        "# MALAYALAM\n",
        "input_folder = '/content/drive/MyDrive/adima/audios-001/Prima/SC_audio_Malayalam/'\n",
        "output_folder = '/content/drive/MyDrive/adima/audios-001/Spectrogram/Malayalam'\n",
        "generate_spectrograms_in_folder(input_folder, output_folder)"
      ]
    },
    {
      "cell_type": "code",
      "execution_count": null,
      "metadata": {
        "id": "LXe1SnJSE010"
      },
      "outputs": [],
      "source": [
        "# ODIA\n",
        "input_folder = '/content/drive/MyDrive/adima/audios-001/Prima/SC_audio_Odia/'\n",
        "output_folder = '/content/drive/MyDrive/adima/audios-001/Spectrogram/Odia'\n",
        "generate_spectrograms_in_folder(input_folder, output_folder)"
      ]
    },
    {
      "cell_type": "code",
      "execution_count": null,
      "metadata": {
        "id": "ISizmpDaE4rr"
      },
      "outputs": [],
      "source": [
        "# PUNJABI\n",
        "input_folder = '/content/drive/MyDrive/adima/audios-001/Prima/SC_audio_Punjabi/'\n",
        "output_folder = '/content/drive/MyDrive/adima/audios-001/Spectrogram/Punjabi'\n",
        "generate_spectrograms_in_folder(input_folder, output_folder)"
      ]
    },
    {
      "cell_type": "code",
      "execution_count": null,
      "metadata": {
        "id": "EgA0641SE8fo"
      },
      "outputs": [],
      "source": [
        "# TAMIL\n",
        "input_folder = '/content/drive/MyDrive/adima/audios-001/Prima/SC_audio_Tamil/'\n",
        "output_folder = '/content/drive/MyDrive/adima/audios-001/Spectrogram/Tamil'\n",
        "generate_spectrograms_in_folder(input_folder, output_folder)"
      ]
    },
    {
      "cell_type": "code",
      "execution_count": null,
      "metadata": {
        "id": "OPg8-HuwFBqu"
      },
      "outputs": [],
      "source": []
    },
    {
      "cell_type": "markdown",
      "metadata": {
        "id": "mh6D0cPYCduG"
      },
      "source": [
        "## BASIC MODEL"
      ]
    },
    {
      "cell_type": "code",
      "execution_count": null,
      "metadata": {
        "id": "UqhbSYxgEFcs"
      },
      "outputs": [],
      "source": [
        "import os\n",
        "import pandas as pd\n",
        "import numpy as np\n",
        "import matplotlib.pyplot as plt\n",
        "from sklearn.metrics import accuracy_score, f1_score, roc_auc_score, roc_curve, confusion_matrix\n",
        "from tensorflow.keras.preprocessing.image import load_img, img_to_array\n",
        "from tensorflow.keras.models import Sequential\n",
        "from tensorflow.keras.layers import Conv2D, MaxPooling2D, Flatten, Dense\n",
        "from sklearn.model_selection import train_test_split"
      ]
    },
    {
      "cell_type": "code",
      "execution_count": null,
      "metadata": {
        "id": "rjVcFsoBCegc"
      },
      "outputs": [],
      "source": [
        "train_annotations_path = '/content/drive/MyDrive/adima/PRIMA-20240228T071801Z-002/PRIMA/annotations/Bengali_train.csv'\n",
        "test_annotations_path = '/content/drive/MyDrive/adima/PRIMA-20240228T071801Z-002/PRIMA/annotations/Bengali_test.csv'\n",
        "spectrogram_path = '/content/drive/MyDrive/adima/audios-001/Spectrogram/Bengali'\n",
        "\n",
        "train_annotations = pd.read_csv(train_annotations_path)\n",
        "test_annotations = pd.read_csv(test_annotations_path)\n",
        "\n",
        "def load_spectrogram_image(filename):\n",
        "    img_path = os.path.join(spectrogram_path, filename.replace('.wav', '_spectrogram.png'))\n",
        "    img = load_img(img_path, grayscale=True, target_size=(100, 100))\n",
        "    img_array = img_to_array(img)\n",
        "    return img_array / 255.0"
      ]
    },
    {
      "cell_type": "code",
      "execution_count": null,
      "metadata": {
        "colab": {
          "base_uri": "https://localhost:8080/"
        },
        "id": "8O67_v0TClgn",
        "outputId": "a1ad8a54-dc25-47bd-ee72-1088b06bda52"
      },
      "outputs": [
        {
          "name": "stderr",
          "output_type": "stream",
          "text": [
            "/usr/local/lib/python3.10/dist-packages/keras/src/utils/image_utils.py:409: UserWarning: grayscale is deprecated. Please use color_mode = \"grayscale\"\n",
            "  warnings.warn(\n",
            "/usr/local/lib/python3.10/dist-packages/keras/src/utils/image_utils.py:409: UserWarning: grayscale is deprecated. Please use color_mode = \"grayscale\"\n",
            "  warnings.warn(\n"
          ]
        }
      ],
      "source": [
        "X_train = np.array([load_spectrogram_image(filename) for filename in train_annotations['filename']])\n",
        "y_train = np.array(train_annotations['label'].map({'Yes': 1, 'No': 0}))\n",
        "\n",
        "X_test = np.array([load_spectrogram_image(filename) for filename in test_annotations['filename']])\n",
        "y_test = np.array(test_annotations['label'].map({'Yes': 1, 'No': 0}))"
      ]
    },
    {
      "cell_type": "code",
      "execution_count": null,
      "metadata": {
        "id": "U4GwTtu8EME-"
      },
      "outputs": [],
      "source": [
        "model = Sequential([\n",
        "    Conv2D(32, (3, 3), activation='relu', input_shape=(100, 100, 1)),\n",
        "    MaxPooling2D((2, 2)),\n",
        "    Conv2D(64, (3, 3), activation='relu'),\n",
        "    MaxPooling2D((2, 2)),\n",
        "    Conv2D(128, (3, 3), activation='relu'),\n",
        "    MaxPooling2D((2, 2)),\n",
        "    Flatten(),\n",
        "    Dense(128, activation='relu'),\n",
        "    Dense(1, activation='sigmoid')\n",
        "])\n",
        "\n",
        "model.compile(optimizer='adam', loss='binary_crossentropy', metrics=['accuracy'])"
      ]
    },
    {
      "cell_type": "code",
      "execution_count": null,
      "metadata": {
        "colab": {
          "base_uri": "https://localhost:8080/"
        },
        "id": "fxE54de_EOuN",
        "outputId": "eb834944-062c-41c7-f2d8-6a4a9665b73a"
      },
      "outputs": [
        {
          "name": "stdout",
          "output_type": "stream",
          "text": [
            "Epoch 1/50\n",
            "21/21 [==============================] - 24s 1s/step - loss: 0.6996 - accuracy: 0.4977 - val_loss: 0.6874 - val_accuracy: 0.6000\n",
            "Epoch 2/50\n",
            "21/21 [==============================] - 17s 792ms/step - loss: 0.6946 - accuracy: 0.5114 - val_loss: 0.6926 - val_accuracy: 0.4242\n",
            "Epoch 3/50\n",
            "21/21 [==============================] - 13s 628ms/step - loss: 0.6925 - accuracy: 0.5084 - val_loss: 0.6830 - val_accuracy: 0.6000\n",
            "Epoch 4/50\n",
            "21/21 [==============================] - 13s 624ms/step - loss: 0.6918 - accuracy: 0.5160 - val_loss: 0.6983 - val_accuracy: 0.4000\n",
            "Epoch 5/50\n",
            "21/21 [==============================] - 12s 567ms/step - loss: 0.6858 - accuracy: 0.5327 - val_loss: 0.6520 - val_accuracy: 0.6303\n",
            "Epoch 6/50\n",
            "21/21 [==============================] - 12s 546ms/step - loss: 0.6766 - accuracy: 0.5738 - val_loss: 0.6216 - val_accuracy: 0.7030\n",
            "Epoch 7/50\n",
            "21/21 [==============================] - 13s 589ms/step - loss: 0.6403 - accuracy: 0.6377 - val_loss: 0.5821 - val_accuracy: 0.7697\n",
            "Epoch 8/50\n",
            "21/21 [==============================] - 13s 618ms/step - loss: 0.6220 - accuracy: 0.6636 - val_loss: 0.5683 - val_accuracy: 0.7576\n",
            "Epoch 9/50\n",
            "21/21 [==============================] - 13s 621ms/step - loss: 0.5836 - accuracy: 0.7093 - val_loss: 0.5383 - val_accuracy: 0.7030\n",
            "Epoch 10/50\n",
            "21/21 [==============================] - 13s 614ms/step - loss: 0.6098 - accuracy: 0.6667 - val_loss: 0.6324 - val_accuracy: 0.6485\n",
            "Epoch 11/50\n",
            "21/21 [==============================] - 13s 609ms/step - loss: 0.5901 - accuracy: 0.6788 - val_loss: 0.5281 - val_accuracy: 0.7697\n",
            "Epoch 12/50\n",
            "21/21 [==============================] - 13s 611ms/step - loss: 0.5782 - accuracy: 0.7093 - val_loss: 0.5556 - val_accuracy: 0.7333\n",
            "Epoch 13/50\n",
            "21/21 [==============================] - 11s 548ms/step - loss: 0.5693 - accuracy: 0.7108 - val_loss: 0.5045 - val_accuracy: 0.7697\n",
            "Epoch 14/50\n",
            "21/21 [==============================] - 12s 536ms/step - loss: 0.5495 - accuracy: 0.7230 - val_loss: 0.5120 - val_accuracy: 0.7455\n",
            "Epoch 15/50\n",
            "21/21 [==============================] - 12s 587ms/step - loss: 0.5542 - accuracy: 0.7291 - val_loss: 0.5013 - val_accuracy: 0.7455\n",
            "Epoch 16/50\n",
            "21/21 [==============================] - 13s 622ms/step - loss: 0.5365 - accuracy: 0.7215 - val_loss: 0.5166 - val_accuracy: 0.7636\n",
            "Epoch 17/50\n",
            "21/21 [==============================] - 13s 621ms/step - loss: 0.5803 - accuracy: 0.6910 - val_loss: 0.5627 - val_accuracy: 0.7273\n",
            "Epoch 18/50\n",
            "21/21 [==============================] - 12s 597ms/step - loss: 0.5385 - accuracy: 0.7199 - val_loss: 0.5207 - val_accuracy: 0.7576\n",
            "Epoch 19/50\n",
            "21/21 [==============================] - 12s 599ms/step - loss: 0.5152 - accuracy: 0.7610 - val_loss: 0.5382 - val_accuracy: 0.7152\n",
            "Epoch 20/50\n",
            "21/21 [==============================] - 11s 537ms/step - loss: 0.4910 - accuracy: 0.7702 - val_loss: 0.6114 - val_accuracy: 0.6727\n",
            "Epoch 21/50\n",
            "21/21 [==============================] - 12s 545ms/step - loss: 0.5023 - accuracy: 0.7626 - val_loss: 0.5485 - val_accuracy: 0.7212\n",
            "Epoch 22/50\n",
            "21/21 [==============================] - 13s 624ms/step - loss: 0.4955 - accuracy: 0.7489 - val_loss: 0.5244 - val_accuracy: 0.7455\n",
            "Epoch 23/50\n",
            "21/21 [==============================] - 12s 592ms/step - loss: 0.4900 - accuracy: 0.7702 - val_loss: 0.5592 - val_accuracy: 0.7091\n",
            "Epoch 24/50\n",
            "21/21 [==============================] - 13s 623ms/step - loss: 0.4474 - accuracy: 0.7915 - val_loss: 0.5246 - val_accuracy: 0.7455\n",
            "Epoch 25/50\n",
            "21/21 [==============================] - 13s 620ms/step - loss: 0.4277 - accuracy: 0.8021 - val_loss: 0.5889 - val_accuracy: 0.6970\n",
            "Epoch 26/50\n",
            "21/21 [==============================] - 12s 591ms/step - loss: 0.4150 - accuracy: 0.8052 - val_loss: 0.5392 - val_accuracy: 0.7273\n",
            "Epoch 27/50\n",
            "21/21 [==============================] - 11s 535ms/step - loss: 0.3898 - accuracy: 0.8234 - val_loss: 0.5434 - val_accuracy: 0.7333\n",
            "Epoch 28/50\n",
            "21/21 [==============================] - 12s 579ms/step - loss: 0.3621 - accuracy: 0.8371 - val_loss: 0.5859 - val_accuracy: 0.7273\n",
            "Epoch 29/50\n",
            "21/21 [==============================] - 13s 619ms/step - loss: 0.3390 - accuracy: 0.8569 - val_loss: 0.5601 - val_accuracy: 0.7455\n",
            "Epoch 30/50\n",
            "21/21 [==============================] - 13s 626ms/step - loss: 0.3160 - accuracy: 0.8615 - val_loss: 0.6219 - val_accuracy: 0.7273\n",
            "Epoch 31/50\n",
            "21/21 [==============================] - 13s 626ms/step - loss: 0.2858 - accuracy: 0.8858 - val_loss: 0.5822 - val_accuracy: 0.7273\n",
            "Epoch 32/50\n",
            "21/21 [==============================] - 13s 647ms/step - loss: 0.2543 - accuracy: 0.9026 - val_loss: 0.6991 - val_accuracy: 0.7212\n",
            "Epoch 33/50\n",
            "21/21 [==============================] - 23s 1s/step - loss: 0.2273 - accuracy: 0.9102 - val_loss: 0.7697 - val_accuracy: 0.6970\n",
            "Epoch 34/50\n",
            "21/21 [==============================] - 12s 579ms/step - loss: 0.2143 - accuracy: 0.9178 - val_loss: 0.7702 - val_accuracy: 0.7333\n",
            "Epoch 35/50\n",
            "21/21 [==============================] - 13s 625ms/step - loss: 0.2081 - accuracy: 0.9163 - val_loss: 0.7190 - val_accuracy: 0.7030\n",
            "Epoch 36/50\n",
            "21/21 [==============================] - 13s 621ms/step - loss: 0.1578 - accuracy: 0.9437 - val_loss: 0.7968 - val_accuracy: 0.7212\n",
            "Epoch 37/50\n",
            "21/21 [==============================] - 13s 616ms/step - loss: 0.1744 - accuracy: 0.9391 - val_loss: 0.7843 - val_accuracy: 0.6970\n",
            "Epoch 38/50\n",
            "21/21 [==============================] - 13s 622ms/step - loss: 0.1518 - accuracy: 0.9482 - val_loss: 0.9217 - val_accuracy: 0.7152\n",
            "Epoch 39/50\n",
            "21/21 [==============================] - 13s 621ms/step - loss: 0.1000 - accuracy: 0.9833 - val_loss: 0.9113 - val_accuracy: 0.6970\n",
            "Epoch 40/50\n",
            "21/21 [==============================] - 14s 661ms/step - loss: 0.0824 - accuracy: 0.9893 - val_loss: 1.0413 - val_accuracy: 0.7091\n",
            "Epoch 41/50\n",
            "21/21 [==============================] - 12s 558ms/step - loss: 0.0572 - accuracy: 0.9939 - val_loss: 1.0407 - val_accuracy: 0.6970\n",
            "Epoch 42/50\n",
            "21/21 [==============================] - 12s 559ms/step - loss: 0.0408 - accuracy: 0.9985 - val_loss: 1.1093 - val_accuracy: 0.7273\n",
            "Epoch 43/50\n",
            "21/21 [==============================] - 13s 620ms/step - loss: 0.0407 - accuracy: 0.9985 - val_loss: 1.0916 - val_accuracy: 0.7212\n",
            "Epoch 44/50\n",
            "21/21 [==============================] - 12s 597ms/step - loss: 0.0308 - accuracy: 0.9985 - val_loss: 1.1429 - val_accuracy: 0.7030\n",
            "Epoch 45/50\n",
            "21/21 [==============================] - 13s 621ms/step - loss: 0.0214 - accuracy: 1.0000 - val_loss: 1.2636 - val_accuracy: 0.6909\n",
            "Epoch 46/50\n",
            "21/21 [==============================] - 12s 594ms/step - loss: 0.0181 - accuracy: 1.0000 - val_loss: 1.3561 - val_accuracy: 0.6970\n",
            "Epoch 47/50\n",
            "21/21 [==============================] - 12s 592ms/step - loss: 0.0141 - accuracy: 1.0000 - val_loss: 1.3076 - val_accuracy: 0.6970\n",
            "Epoch 48/50\n",
            "21/21 [==============================] - 20s 973ms/step - loss: 0.0103 - accuracy: 1.0000 - val_loss: 1.3544 - val_accuracy: 0.6970\n",
            "Epoch 49/50\n",
            "21/21 [==============================] - 12s 597ms/step - loss: 0.0089 - accuracy: 1.0000 - val_loss: 1.3873 - val_accuracy: 0.7091\n",
            "Epoch 50/50\n",
            "21/21 [==============================] - 11s 536ms/step - loss: 0.0073 - accuracy: 1.0000 - val_loss: 1.4325 - val_accuracy: 0.7091\n"
          ]
        },
        {
          "data": {
            "text/plain": [
              "<keras.src.callbacks.History at 0x7d206c1f1780>"
            ]
          },
          "execution_count": 6,
          "metadata": {},
          "output_type": "execute_result"
        }
      ],
      "source": [
        "model.fit(X_train, y_train, epochs=50, batch_size=32, validation_split=0.2)"
      ]
    },
    {
      "cell_type": "code",
      "execution_count": null,
      "metadata": {
        "colab": {
          "base_uri": "https://localhost:8080/"
        },
        "id": "F-Rw2jDBEQc_",
        "outputId": "80bf64a0-d12c-4703-fcf2-1cc154cc5c93"
      },
      "outputs": [
        {
          "name": "stdout",
          "output_type": "stream",
          "text": [
            "26/26 [==============================] - 5s 180ms/step\n",
            "12/12 [==============================] - 2s 128ms/step\n"
          ]
        }
      ],
      "source": [
        "train_predictions = model.predict(X_train)\n",
        "test_predictions = model.predict(X_test)\n",
        "\n",
        "train_accuracy = accuracy_score(y_train, np.round(train_predictions))\n",
        "test_accuracy = accuracy_score(y_test, np.round(test_predictions))\n",
        "\n",
        "train_f1_score = f1_score(y_train, np.round(train_predictions))\n",
        "test_f1_score = f1_score(y_test, np.round(test_predictions))\n",
        "\n",
        "train_auc = roc_auc_score(y_train, train_predictions)\n",
        "test_auc = roc_auc_score(y_test, test_predictions)"
      ]
    },
    {
      "cell_type": "code",
      "execution_count": null,
      "metadata": {
        "colab": {
          "base_uri": "https://localhost:8080/"
        },
        "id": "Tzvc79YKEicO",
        "outputId": "83471a68-76e2-42cd-8f9d-c191090d83be"
      },
      "outputs": [
        {
          "name": "stdout",
          "output_type": "stream",
          "text": [
            "Training Accuracy: 0.9416058394160584\n",
            "Testing Accuracy: 0.6918918918918919\n",
            "Training F1 Score: 0.9435294117647058\n",
            "Testing F1 Score: 0.7385321100917431\n",
            "Training AUC: 0.9661541107263153\n",
            "Testing AUC: 0.7397279035792548\n"
          ]
        }
      ],
      "source": [
        "print(\"Training Accuracy:\", train_accuracy)\n",
        "print(\"Testing Accuracy:\", test_accuracy)\n",
        "print(\"Training F1 Score:\", train_f1_score)\n",
        "print(\"Testing F1 Score:\", test_f1_score)\n",
        "print(\"Training AUC:\", train_auc)\n",
        "print(\"Testing AUC:\", test_auc)"
      ]
    },
    {
      "cell_type": "code",
      "execution_count": null,
      "metadata": {
        "colab": {
          "base_uri": "https://localhost:8080/"
        },
        "id": "VuQnf7C-4kdK",
        "outputId": "3ad305d8-3b03-4a1e-d172-d16911085b71"
      },
      "outputs": [
        {
          "name": "stdout",
          "output_type": "stream",
          "text": [
            "Testing Accuracy: 0.6918918918918919\n",
            "Testing F1 Score: 0.7385321100917431\n",
            "Testing AUC: 0.7397279035792548\n"
          ]
        }
      ],
      "source": [
        "print(\"Testing Accuracy:\", test_accuracy)\n",
        "print(\"Testing F1 Score:\", test_f1_score)\n",
        "print(\"Testing AUC:\", test_auc)"
      ]
    },
    {
      "cell_type": "code",
      "execution_count": null,
      "metadata": {
        "colab": {
          "base_uri": "https://localhost:8080/",
          "height": 472
        },
        "id": "4Z23eE03Ejn3",
        "outputId": "b596c5bf-47bb-4994-8eec-f167c53a0923"
      },
      "outputs": [
        {
          "data": {
            "image/png": "[encoded data removed]",
            "text/plain": [
              "<Figure size 640x480 with 1 Axes>"
            ]
          },
          "metadata": {},
          "output_type": "display_data"
        }
      ],
      "source": [
        "fpr, tpr, thresholds = roc_curve(y_test, test_predictions)\n",
        "plt.plot(fpr, tpr)\n",
        "plt.xlabel('False Positive Rate')\n",
        "plt.ylabel('True Positive Rate')\n",
        "plt.title('ROC Curve')\n",
        "plt.show()"
      ]
    },
    {
      "cell_type": "code",
      "execution_count": null,
      "metadata": {
        "colab": {
          "base_uri": "https://localhost:8080/",
          "height": 490
        },
        "id": "whQeau3JEks4",
        "outputId": "4ce11fff-4153-4380-d63d-2410e45212ef"
      },
      "outputs": [
        {
          "data": {
            "text/plain": [
              "Text(0, 0.5, 'True Labels')"
            ]
          },
          "execution_count": 11,
          "metadata": {},
          "output_type": "execute_result"
        },
        {
          "data": {
            "image/png": "[encoded data removed]",
            "text/plain": [
              "<Figure size 640x480 with 2 Axes>"
            ]
          },
          "metadata": {},
          "output_type": "display_data"
        }
      ],
      "source": [
        "import numpy as np\n",
        "from sklearn.metrics import confusion_matrix\n",
        "import matplotlib.pyplot as plt\n",
        "\n",
        "y_pred_binary = np.round(test_predictions).astype(int)\n",
        "\n",
        "cm = confusion_matrix(y_test, y_pred_binary)\n",
        "\n",
        "plt.imshow(cm, cmap=plt.cm.Blues)\n",
        "plt.title('Confusion Matrix')\n",
        "plt.colorbar()\n",
        "plt.xlabel('Predicted Labels')\n",
        "plt.ylabel('True Labels')"
      ]
    },
    {
      "cell_type": "code",
      "execution_count": null,
      "metadata": {
        "colab": {
          "base_uri": "https://localhost:8080/",
          "height": 472
        },
        "id": "I2cQOugNElJJ",
        "outputId": "1e26646f-38fe-4c6e-e375-cfe198d3bf1c"
      },
      "outputs": [
        {
          "data": {
            "image/png": "[encoded data removed]",
            "text/plain": [
              "<Figure size 640x480 with 2 Axes>"
            ]
          },
          "metadata": {},
          "output_type": "display_data"
        }
      ],
      "source": [
        "import numpy as np\n",
        "from sklearn.metrics import confusion_matrix\n",
        "import matplotlib.pyplot as plt\n",
        "\n",
        "y_pred_binary = np.round(test_predictions).astype(int)\n",
        "\n",
        "cm = confusion_matrix(y_test, y_pred_binary)\n",
        "\n",
        "plt.imshow(cm, cmap=plt.cm.Blues)\n",
        "plt.title('Confusion Matrix')\n",
        "plt.colorbar()\n",
        "plt.xlabel('Predicted Labels')\n",
        "plt.ylabel('True Labels')\n",
        "\n",
        "thresh = cm.max() / 2.0\n",
        "for i in range(cm.shape[0]):\n",
        "    for j in range(cm.shape[1]):\n",
        "        plt.text(j, i, format(cm[i, j], 'd'), horizontalalignment=\"center\", color=\"white\" if cm[i, j] > thresh else \"black\")\n",
        "plt.show()"
      ]
    },
    {
      "cell_type": "markdown",
      "source": [],
      "metadata": {
        "id": "sl7PA9Xti_Hp"
      }
    }
  ],
  "metadata": {
    "accelerator": "TPU",
    "colab": {
      "collapsed_sections": [
        "gyEbsY8abfBe",
        "1mvMKBVJC3_m",
        "mh6D0cPYCduG",
        "dJaUfpEf1WLe"
      ],
      "provenance": []
    },
    "kernelspec": {
      "display_name": "Python 3",
      "name": "python3"
    },
    "language_info": {
      "name": "python"
    }
  },
  "nbformat": 4,
  "nbformat_minor": 0
}